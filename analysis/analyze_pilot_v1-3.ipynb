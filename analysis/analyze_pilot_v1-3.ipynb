{
 "cells": [
  {
   "cell_type": "code",
   "execution_count": 1,
   "id": "ffb52193",
   "metadata": {},
   "outputs": [],
   "source": [
    "%matplotlib inline\n",
    "import os, sys, gc\n",
    "import numpy as np\n",
    "import matplotlib.pyplot as plt\n",
    "import pandas as pd\n",
    "import matplotlib.tri as tri\n",
    "from collections import Counter\n",
    "from scipy.special import factorial\n",
    "import itertools\n",
    "from math import comb\n",
    "from scipy import stats"
   ]
  },
  {
   "cell_type": "code",
   "execution_count": 2,
   "id": "cd3fc844",
   "metadata": {},
   "outputs": [
    {
     "name": "stdout",
     "output_type": "stream",
     "text": [
      "['html-button-response_processed_1.3.csv', 'processed_data_set_level_1.3.p', 'html-button-response_processed.csv', 'participants.csv', 'processed_data_exp_level_1.3.p', 'html-button-response.csv', 'exclusion_data_1.3.csv', 'survey-multi-select.csv', 'html-keyboard-response.csv', 'processed_data_1.3.p', 'demographics.csv']\n"
     ]
    }
   ],
   "source": [
    "version = '1.3'\n",
    "load_dir = '../data/human/{}'.format(version)\n",
    "save_dir = load_dir\n",
    "print(os.listdir(load_dir))"
   ]
  },
  {
   "cell_type": "markdown",
   "id": "06c665db",
   "metadata": {},
   "source": [
    "# Data analysis\n",
    "In this script, we apply classical and Bayesian approaches to determine whether the data provide significant evidence of deviations from independence between features and relations. We will either focus on the strong or weak MAX effect, or MAX and MIN effects together (both of these represent deviations). \n",
    "\n",
    "The data are presented below. (D-B) - (C-A) positive represents weak support for MAX, and Max indicates whether strong support was also found. Strong support for a participant implies weak support. "
   ]
  },
  {
   "cell_type": "code",
   "execution_count": 6,
   "id": "3be70de6",
   "metadata": {},
   "outputs": [
    {
     "data": {
      "text/plain": [
       "A                5.013542\n",
       "B                3.298958\n",
       "C                4.538021\n",
       "D                3.346354\n",
       "(D-B)-(C-A)      0.522917\n",
       "N_max           21.000000\n",
       "N_min            7.000000\n",
       "N              960.000000\n",
       "N_ind          932.000000\n",
       "Var_all          0.748694\n",
       "SD_all           0.865271\n",
       "SEM_all          0.027926\n",
       "dtype: float64"
      ]
     },
     "metadata": {},
     "output_type": "display_data"
    },
    {
     "data": {
      "text/html": [
       "<div>\n",
       "<style scoped>\n",
       "    .dataframe tbody tr th:only-of-type {\n",
       "        vertical-align: middle;\n",
       "    }\n",
       "\n",
       "    .dataframe tbody tr th {\n",
       "        vertical-align: top;\n",
       "    }\n",
       "\n",
       "    .dataframe thead th {\n",
       "        text-align: right;\n",
       "    }\n",
       "</style>\n",
       "<table border=\"1\" class=\"dataframe\">\n",
       "  <thead>\n",
       "    <tr style=\"text-align: right;\">\n",
       "      <th></th>\n",
       "      <th>A</th>\n",
       "      <th>B</th>\n",
       "      <th>C</th>\n",
       "      <th>D</th>\n",
       "      <th>(D-B)-(C-A)</th>\n",
       "      <th>N_max</th>\n",
       "      <th>N_min</th>\n",
       "      <th>N</th>\n",
       "      <th>N_ind</th>\n",
       "      <th>Var_set</th>\n",
       "      <th>SD_set</th>\n",
       "      <th>SEM_set</th>\n",
       "    </tr>\n",
       "  </thead>\n",
       "  <tbody>\n",
       "    <tr>\n",
       "      <th>0</th>\n",
       "      <td>5.618750</td>\n",
       "      <td>1.921875</td>\n",
       "      <td>5.075000</td>\n",
       "      <td>2.134375</td>\n",
       "      <td>0.756250</td>\n",
       "      <td>1.0</td>\n",
       "      <td>0.0</td>\n",
       "      <td>160.0</td>\n",
       "      <td>159.0</td>\n",
       "      <td>2.837461</td>\n",
       "      <td>1.684476</td>\n",
       "      <td>0.133170</td>\n",
       "    </tr>\n",
       "    <tr>\n",
       "      <th>1</th>\n",
       "      <td>4.365625</td>\n",
       "      <td>2.737500</td>\n",
       "      <td>3.337500</td>\n",
       "      <td>2.521875</td>\n",
       "      <td>0.812500</td>\n",
       "      <td>5.0</td>\n",
       "      <td>1.0</td>\n",
       "      <td>160.0</td>\n",
       "      <td>154.0</td>\n",
       "      <td>3.752344</td>\n",
       "      <td>1.937097</td>\n",
       "      <td>0.153141</td>\n",
       "    </tr>\n",
       "    <tr>\n",
       "      <th>2</th>\n",
       "      <td>5.325000</td>\n",
       "      <td>4.762500</td>\n",
       "      <td>4.937500</td>\n",
       "      <td>4.512500</td>\n",
       "      <td>0.137500</td>\n",
       "      <td>3.0</td>\n",
       "      <td>1.0</td>\n",
       "      <td>160.0</td>\n",
       "      <td>156.0</td>\n",
       "      <td>3.212344</td>\n",
       "      <td>1.792301</td>\n",
       "      <td>0.141694</td>\n",
       "    </tr>\n",
       "    <tr>\n",
       "      <th>3</th>\n",
       "      <td>4.825000</td>\n",
       "      <td>3.253125</td>\n",
       "      <td>4.709375</td>\n",
       "      <td>3.428125</td>\n",
       "      <td>0.290625</td>\n",
       "      <td>2.0</td>\n",
       "      <td>3.0</td>\n",
       "      <td>160.0</td>\n",
       "      <td>155.0</td>\n",
       "      <td>2.582725</td>\n",
       "      <td>1.607086</td>\n",
       "      <td>0.127051</td>\n",
       "    </tr>\n",
       "    <tr>\n",
       "      <th>4</th>\n",
       "      <td>5.162500</td>\n",
       "      <td>2.909375</td>\n",
       "      <td>4.759375</td>\n",
       "      <td>3.300000</td>\n",
       "      <td>0.793750</td>\n",
       "      <td>7.0</td>\n",
       "      <td>0.0</td>\n",
       "      <td>160.0</td>\n",
       "      <td>153.0</td>\n",
       "      <td>3.948086</td>\n",
       "      <td>1.986979</td>\n",
       "      <td>0.157084</td>\n",
       "    </tr>\n",
       "    <tr>\n",
       "      <th>5</th>\n",
       "      <td>4.784375</td>\n",
       "      <td>4.209375</td>\n",
       "      <td>4.409375</td>\n",
       "      <td>4.181250</td>\n",
       "      <td>0.346875</td>\n",
       "      <td>3.0</td>\n",
       "      <td>2.0</td>\n",
       "      <td>160.0</td>\n",
       "      <td>155.0</td>\n",
       "      <td>4.031240</td>\n",
       "      <td>2.007795</td>\n",
       "      <td>0.158730</td>\n",
       "    </tr>\n",
       "  </tbody>\n",
       "</table>\n",
       "</div>"
      ],
      "text/plain": [
       "          A         B         C         D  (D-B)-(C-A)  N_max  N_min      N  \\\n",
       "0  5.618750  1.921875  5.075000  2.134375     0.756250    1.0    0.0  160.0   \n",
       "1  4.365625  2.737500  3.337500  2.521875     0.812500    5.0    1.0  160.0   \n",
       "2  5.325000  4.762500  4.937500  4.512500     0.137500    3.0    1.0  160.0   \n",
       "3  4.825000  3.253125  4.709375  3.428125     0.290625    2.0    3.0  160.0   \n",
       "4  5.162500  2.909375  4.759375  3.300000     0.793750    7.0    0.0  160.0   \n",
       "5  4.784375  4.209375  4.409375  4.181250     0.346875    3.0    2.0  160.0   \n",
       "\n",
       "   N_ind   Var_set    SD_set   SEM_set  \n",
       "0  159.0  2.837461  1.684476  0.133170  \n",
       "1  154.0  3.752344  1.937097  0.153141  \n",
       "2  156.0  3.212344  1.792301  0.141694  \n",
       "3  155.0  2.582725  1.607086  0.127051  \n",
       "4  153.0  3.948086  1.986979  0.157084  \n",
       "5  155.0  4.031240  2.007795  0.158730  "
      ]
     },
     "metadata": {},
     "output_type": "display_data"
    }
   ],
   "source": [
    "fullDataDF = pd.read_pickle('{}/processed_data_exp_level_{}.p'.format(save_dir, version))\n",
    "display(fullDataDF)\n",
    "N = fullDataDF[\"N\"]\n",
    "mu = fullDataDF[\"(D-B)-(C-A)\"]\n",
    "sigma = fullDataDF[\"SD_all\"]\n",
    "\n",
    "setDataDF = pd.read_pickle('{}/processed_data_set_level_{}.p'.format(save_dir, version))\n",
    "display(setDataDF)"
   ]
  },
  {
   "cell_type": "code",
   "execution_count": 4,
   "id": "e185ecdf",
   "metadata": {},
   "outputs": [
    {
     "name": "stdout",
     "output_type": "stream",
     "text": [
      "All data significance is (t=18.714995808766133, p=3.6686348207750943e-67, dof=959.0)\n"
     ]
    }
   ],
   "source": [
    "def return_statistic(alpha, beta, option=\"z\", N=30):\n",
    "    \"\"\"Currently assumes two-tailed\"\"\"\n",
    "    if option == \"z\":\n",
    "        return (stats.norm.ppf(1-alpha/2), stats.norm.ppf(beta))\n",
    "    elif option == \"t\":\n",
    "        return (stats.t.ppf(1-alpha/2, N-1), stats.t.ppf(beta, N-1))\n",
    "    else:\n",
    "        print(\"Statistic not implemented yet\")\n",
    "        return \n",
    "    \n",
    "def return_p(statistic, option=\"z\", N=30):\n",
    "    if option == \"z\":\n",
    "        return stats.norm.cdf(statistic)\n",
    "    elif option == \"t\":\n",
    "        return stats.t.cdf(statistic, N-1)\n",
    "    else:\n",
    "        print(\"Statistic not implemented yet\")\n",
    "        return \n",
    "    \n",
    "def stat_p_val_power(mu_hat, sigma_hat, N=None, alpha=0.05, mu_0=0, option=\"z\"):\n",
    "    \"\"\"Calculate P value and power of our sample\"\"\"  \n",
    "    if option==\"t\":\n",
    "        stat = (mu_hat - mu_0)/(sigma_hat/ np.sqrt(N-1))\n",
    "        power = (mu_0 - mu_hat) / (sigma_hat / np.sqrt(N-1))\n",
    "        p1 = return_p(power + stats.t.ppf(alpha/2, N-1), option=option, N=N) \n",
    "        p2 = 1 - return_p(power + stats.t.ppf(1-(alpha/2), N-1), option=option, N=N) \n",
    "    elif option==\"z\":\n",
    "        stat = (mu_hat - mu_0)/(sigma_hat/ np.sqrt(N))\n",
    "        power = (mu_0 - mu_hat) / (sigma_hat / np.sqrt(N))\n",
    "        \n",
    "        p1 = return_p(power + stats.norm.ppf(alpha/2), option=option, N=N) \n",
    "        p2 = 1 - return_p(power + stats.norm.ppf(1-(alpha/2)), option=option, N=N) \n",
    "    \n",
    "    p_val = 1 - return_p(stat, option=option, N=N) + return_p(-stat, option=option, N=N)\n",
    "    power = p1 + p2\n",
    "    return (stat, p_val, power)\n",
    "\n",
    "t, p, _ = stat_p_val_power(mu, sigma, N=N, option=\"t\")\n",
    "print(\"All data significance is (t={}, p={}, dof={})\".format(t, p, N-1))"
   ]
  },
  {
   "cell_type": "code",
   "execution_count": 16,
   "id": "15cf9d21",
   "metadata": {},
   "outputs": [
    {
     "name": "stdout",
     "output_type": "stream",
     "text": [
      "0\n",
      "All data significance is (t=5.661076244684501, p=6.855203473522297e-08, dof=159.0)\n",
      "1\n",
      "All data significance is (t=5.288964150604872, p=4.013448846514589e-07, dof=159.0)\n",
      "2\n",
      "All data significance is (t=0.9673647412099098, p=0.33483085416802577, dof=159.0)\n",
      "3\n",
      "All data significance is (t=2.2803025979165668, p=0.02391834413651879, dof=159.0)\n",
      "4\n",
      "All data significance is (t=5.037197762692263, p=1.2698743154908941e-06, dof=159.0)\n",
      "5\n",
      "All data significance is (t=2.178473205734793, p=0.030843472311027735, dof=159.0)\n"
     ]
    }
   ],
   "source": [
    "for set_num, data in setDataDF.iterrows():\n",
    "    print(set_num)\n",
    "    N_t = data[\"N\"]\n",
    "    mu_t = data[\"(D-B)-(C-A)\"]\n",
    "    sigma_t = data[\"SD_set\"]\n",
    "    t_t, p_t, _ = stat_p_val_power(mu_t, sigma_t, N=N_t, option=\"t\", alpha=0.05/6) # post-hoc\n",
    "    print(\"All data significance is (t={}, p={}, dof={})\".format(t_t, p_t, N_t-1))"
   ]
  },
  {
   "cell_type": "code",
   "execution_count": null,
   "id": "e78e98eb",
   "metadata": {},
   "outputs": [],
   "source": []
  }
 ],
 "metadata": {
  "kernelspec": {
   "display_name": "Python 3 (ipykernel)",
   "language": "python",
   "name": "python3"
  },
  "language_info": {
   "codemirror_mode": {
    "name": "ipython",
    "version": 3
   },
   "file_extension": ".py",
   "mimetype": "text/x-python",
   "name": "python",
   "nbconvert_exporter": "python",
   "pygments_lexer": "ipython3",
   "version": "3.9.7"
  }
 },
 "nbformat": 4,
 "nbformat_minor": 5
}
