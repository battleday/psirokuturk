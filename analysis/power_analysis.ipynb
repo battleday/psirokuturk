{
 "cells": [
  {
   "cell_type": "code",
   "execution_count": 1,
   "id": "3b6230c7",
   "metadata": {},
   "outputs": [],
   "source": [
    "%matplotlib inline\n",
    "import os, sys, gc\n",
    "import numpy as np\n",
    "import matplotlib.pyplot as plt\n",
    "import csv\n",
    "import pandas as pd\n",
    "from IPython.display import display, HTML\n",
    "import matplotlib"
   ]
  },
  {
   "cell_type": "markdown",
   "id": "81f2dd85",
   "metadata": {},
   "source": [
    "## Power analysis\n",
    "We are concerned with calculating the appropriate sample size needed to replicate the effect found in Experiment 3 of \"Relational similarity and the nonindependence of features in similarity judgments\", Goldstone, Medin, Gentner (1991). \n",
    "\n",
    "They report the following statistic:\n",
    "\"The mean similarity ratings, collapsing over the six picture groups, show the same trends, yielding a value of .6 for (D - B) - (C - A); this value is significantly greater than zero (df = 5, t = 3.448, p < .02)\"\n",
    "\n",
    "From these values, we can see that they used a two-sided t-test.\n",
    "\n",
    "Recall that the t-statistic is given by the following distribution:\n",
    "\n",
    "$$\n",
    "T_n = \\frac{\\hat{\\mu} - \\mu_0}{\\hat{\\sigma} \\cdot n^{-\\frac{1}{2}}},\n",
    "$$\n",
    "\n",
    "where $\\hat{\\mu} = \\frac{1}{N}\\sum_{i=1}^N x_i$ and $\\hat{\\sigma} = \\sqrt{\\frac{1}{N}\\sum_{i=1}^N(x_i - \\hat{\\mu})^2}$.\n",
    "\n",
    "The test statistic under the null hypothesis follows a t-distribution with $N-1$ degrees of freedom, with the assumption that data are i.i.d. $N({\\mu}_1, \\sigma_1^2)$.\n",
    "\n",
    "Collapsing across the $N=6$ stimulus sets, we have a significant result at significance level $\\alpha=0.05$ for $T_N>2.571$ (two-tailed). \n",
    "\n",
    "Also recall that power is the probability that the test correctly rejects the null hypothesis when a specific alternative hypothesis is true. \n",
    "\n",
    "From the following quantities, we can calculate the sample size needed to test a replication of this effect:\n",
    "<ol>\n",
    "    <li>Estimates of the effect size from the last study, </li>\n",
    "    <li>Estimates of the effect size from the last study, </li>\n",
    "    <li>Estimates of the effect size from the last study, </li>\n",
    "    <li>Estimates of the effect size from the last study, </li>\n",
    "</ol>\n",
    "power of $1-\\beta = 0.8$, a significance of $\\alpha=0.05$, the sample size (six stimulus sets) and estimates of the effect size from the last study,"
   ]
  },
  {
   "cell_type": "code",
   "execution_count": 2,
   "id": "a36ff22b",
   "metadata": {},
   "outputs": [],
   "source": [
    "originalData = np.array([0.8, 1.1, 0.7, 0.5, -0.1, 0.7])\n",
    "originalMean = np.mean(originalData)\n",
    "originalSD = np.std(originalData)"
   ]
  },
  {
   "cell_type": "code",
   "execution_count": 4,
   "id": "6d848bc5",
   "metadata": {},
   "outputs": [
    {
     "name": "stdout",
     "output_type": "stream",
     "text": [
      "['.DS_Store', 'processed_data.p', 'participants.csv', 'html-button-response-filtered.csv', 'html-button-response.csv', 'survey-multi-select.csv', 'processed_data_summary.p', 'html-keyboard-response.csv']\n"
     ]
    }
   ],
   "source": [
    "# N.B. all hacky and done quickly\n",
    "version = '1.0'\n",
    "load_dir = '../data/human/1.0'\n",
    "save_dir = load_dir\n",
    "print(os.listdir(load_dir))\n",
    "ignore = set(['w86a7f6a', 'we8453df', 'w85a4c6c', 'w93c8b0c', 'wb4d0e59', 'w8fe1e0c', 'w8488b17', 'w2bc1e74'])\n",
    "\n",
    "dataDF = pd.read_pickle('{}/processed_data.p'.format(save_dir))"
   ]
  },
  {
   "cell_type": "code",
   "execution_count": 6,
   "id": "f5c2d25a",
   "metadata": {},
   "outputs": [
    {
     "name": "stdout",
     "output_type": "stream",
     "text": [
      "A               5.428571\n",
      "B               1.607143\n",
      "C               4.589286\n",
      "D               2.160714\n",
      "(D-B)-(C-A)     1.392857\n",
      "N_max           1.000000\n",
      "N_min           0.000000\n",
      "N              28.000000\n",
      "dtype: float64\n",
      "A              1.303232\n",
      "B              1.429563\n",
      "C              1.650216\n",
      "D              2.353302\n",
      "(D-B)-(C-A)    1.701618\n",
      "dtype: float64\n"
     ]
    },
    {
     "data": {
      "text/plain": [
       "(array([ 2.,  0.,  1.,  1.,  4., 10.,  3.,  4.,  1.,  2.]),\n",
       " array([-2.58157708, -2.14082002, -1.70006296, -1.25930589, -0.81854883,\n",
       "        -0.37779177,  0.06296529,  0.50372236,  0.94447942,  1.38523648,\n",
       "         1.82599355]),\n",
       " <BarContainer object of 10 artists>)"
      ]
     },
     "execution_count": 6,
     "metadata": {},
     "output_type": "execute_result"
    },
    {
     "data": {
      "image/png": "[encoded data removed]",
      "text/plain": [
       "<Figure size 432x288 with 1 Axes>"
      ]
     },
     "metadata": {
      "needs_background": "light"
     },
     "output_type": "display_data"
    }
   ],
   "source": [
    "expResults = dataDF[['A', 'B', 'C', 'D', '(D-B)-(C-A)']].mean()\n",
    "expResults[\"N_max\"] = dataDF[\"Max\"].sum()\n",
    "expResults[\"N_min\"] = dataDF[\"Min\"].sum()\n",
    "expResults[\"N\"] = len(dataDF)\n",
    "print(expResults)\n",
    "sdResults = dataDF[['A', 'B', 'C', 'D', '(D-B)-(C-A)']].std()\n",
    "print(sdResults)\n",
    "Z = (dataDF['(D-B)-(C-A)'].copy() - expResults['(D-B)-(C-A)']) / sdResults['(D-B)-(C-A)']\n",
    "plt.hist(Z)"
   ]
  },
  {
   "cell_type": "code",
   "execution_count": 7,
   "id": "8acb76a7",
   "metadata": {},
   "outputs": [],
   "source": [
    "from scipy import stats\n",
    "def return_statistic(alpha, beta, option=\"z\", N=30):\n",
    "    \"\"\"Currently assumes two-tailed\"\"\"\n",
    "    if option == \"z\":\n",
    "        return (stats.norm.ppf(1-alpha/2), stats.norm.ppf(beta))\n",
    "    elif option == \"t\":\n",
    "        return (stats.t.ppf(1-alpha/2, N), stats.t.ppf(beta, N))\n",
    "    else:\n",
    "        print(\"Statistic not implemented yet\")\n",
    "        return \n",
    "    \n",
    "def calculate_sample_size(sigma, mu_A, mu_0=0, b=0.842, a_half=1.96, option=\"z\"):\n",
    "    \"\"\"Uses the power calculation from https://cran.r-project.org/web/packages/distributions3/vignettes/one-sample-z-test.html\n",
    "    to derive an estimate for N\"\"\"\n",
    "    num = sigma*(b - a_half)\n",
    "    denom = (mu_0-mu_A)\n",
    "    ESS = np.ceil((num/denom)**2)\n",
    "    \n",
    "    if option == \"t\":\n",
    "        ESS += 1\n",
    "    \n",
    "    return int(ESS)"
   ]
  },
  {
   "cell_type": "code",
   "execution_count": 8,
   "id": "af4ab0fd",
   "metadata": {},
   "outputs": [
    {
     "name": "stdout",
     "output_type": "stream",
     "text": [
      "1.959963984540054 -0.8416212335729142\n",
      "47\n",
      "2.0117405104757546 -0.8493359121727924\n",
      "50\n",
      "[50, 50]\n"
     ]
    }
   ],
   "source": [
    "a_half, b = return_statistic(0.05, 0.2)\n",
    "print(a_half, b)\n",
    "ESS = calculate_sample_size(1.701, 0.7, b=b, a_half=a_half)\n",
    "print(ESS)\n",
    "\n",
    "a_half, b = return_statistic(0.05, 0.2, option=\"t\", N=ESS)\n",
    "print(a_half, b)\n",
    "N2 = calculate_sample_size(1.701, 0.7, b=b, a_half=a_half, option=\"t\")\n",
    "\n",
    "Ns = [N2]\n",
    "converged = False\n",
    "\n",
    "while not converged:\n",
    "    a_half_t, b_t = return_statistic(0.05, 0.2, option=\"t\", N=Ns[-1])\n",
    "    N_temp = calculate_sample_size(1.701, 0.7, b=b_t, a_half=a_half_t, option=\"t\")\n",
    "    print(N_temp)\n",
    "    Ns.append(N_temp)\n",
    "    converged = Ns[-1] == Ns[-2]\n",
    "    \n",
    "print(Ns)"
   ]
  },
  {
   "cell_type": "code",
   "execution_count": null,
   "id": "8d1e270c",
   "metadata": {},
   "outputs": [],
   "source": []
  }
 ],
 "metadata": {
  "kernelspec": {
   "display_name": "Python 3 (ipykernel)",
   "language": "python",
   "name": "python3"
  },
  "language_info": {
   "codemirror_mode": {
    "name": "ipython",
    "version": 3
   },
   "file_extension": ".py",
   "mimetype": "text/x-python",
   "name": "python",
   "nbconvert_exporter": "python",
   "pygments_lexer": "ipython3",
   "version": "3.9.7"
  }
 },
 "nbformat": 4,
 "nbformat_minor": 5
}
