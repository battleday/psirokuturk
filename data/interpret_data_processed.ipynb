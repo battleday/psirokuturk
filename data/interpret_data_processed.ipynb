{
 "cells": [
  {
   "cell_type": "code",
   "execution_count": 51,
   "id": "53d55230",
   "metadata": {},
   "outputs": [],
   "source": [
    "%matplotlib inline\n",
    "import os, sys, gc\n",
    "import numpy as np\n",
    "import matplotlib.pyplot as plt\n",
    "import csv\n",
    "import pandas as pd\n",
    "from IPython.display import display, HTML"
   ]
  },
  {
   "cell_type": "code",
   "execution_count": 52,
   "id": "dfc4ee98",
   "metadata": {},
   "outputs": [
    {
     "name": "stdout",
     "output_type": "stream",
     "text": [
      "['participants.csv', 'html-button-response-filtered.csv', 'html-button-response.csv', 'survey-multi-select.csv', 'html-keyboard-response.csv']\n"
     ]
    }
   ],
   "source": [
    "load_dir = 'human/1.0'\n",
    "print(os.listdir(load_dir))\n",
    "ignore = ['w86a7f6a', 'we8453df', 'w85a4c6c', 'w93c8b0c', 'wb4d0e59', 'w8fe1e0c', 'w8488b17', 'w2bc1e74']"
   ]
  },
  {
   "cell_type": "code",
   "execution_count": 67,
   "id": "ad65c514",
   "metadata": {
    "scrolled": false
   },
   "outputs": [],
   "source": [
    "responses = pd.read_csv(\"{}/html-button-response.csv\".format(load_dir), index_col=0, squeeze=True)\n",
    "responses = responses[responses.task != 'response']\n",
    "for wid in ignore:\n",
    "    responses = responses[responses.wid != wid]\n",
    "len(responses)\n",
    "responses = responses.drop(columns=['time_elapsed', 'trial_type', 'question_order'])"
   ]
  },
  {
   "cell_type": "code",
   "execution_count": 68,
   "id": "9ead24be",
   "metadata": {},
   "outputs": [],
   "source": [
    "for i, row in responses.iterrows():\n",
    "    ifor_val = row['stimulus'].split('images/')\n",
    "    try:\n",
    "        v1 = ifor_val[1][0]\n",
    "        v2 = ifor_val[2][0]\n",
    "        if v1 == 'T':\n",
    "            val = v2\n",
    "        else:\n",
    "            val = v1\n",
    "        responses.at[i,'stimulus'] = val\n",
    "    except Exception as E:\n",
    "        continue"
   ]
  },
  {
   "cell_type": "code",
   "execution_count": 69,
   "id": "7d7bc30d",
   "metadata": {},
   "outputs": [
    {
     "data": {
      "text/html": [
       "<div>\n",
       "<style scoped>\n",
       "    .dataframe tbody tr th:only-of-type {\n",
       "        vertical-align: middle;\n",
       "    }\n",
       "\n",
       "    .dataframe tbody tr th {\n",
       "        vertical-align: top;\n",
       "    }\n",
       "\n",
       "    .dataframe thead th {\n",
       "        text-align: right;\n",
       "    }\n",
       "</style>\n",
       "<table border=\"1\" class=\"dataframe\">\n",
       "  <thead>\n",
       "    <tr style=\"text-align: right;\">\n",
       "      <th></th>\n",
       "      <th>stimulus</th>\n",
       "      <th>response</th>\n",
       "      <th>task</th>\n",
       "      <th>wid</th>\n",
       "    </tr>\n",
       "    <tr>\n",
       "      <th>rt</th>\n",
       "      <th></th>\n",
       "      <th></th>\n",
       "      <th></th>\n",
       "      <th></th>\n",
       "    </tr>\n",
       "  </thead>\n",
       "  <tbody>\n",
       "    <tr>\n",
       "      <th>19318.5</th>\n",
       "      <td>D</td>\n",
       "      <td>3</td>\n",
       "      <td>response_R</td>\n",
       "      <td>wf0b51ce</td>\n",
       "    </tr>\n",
       "    <tr>\n",
       "      <th>2953.4</th>\n",
       "      <td>C</td>\n",
       "      <td>5</td>\n",
       "      <td>response_L</td>\n",
       "      <td>wf0b51ce</td>\n",
       "    </tr>\n",
       "    <tr>\n",
       "      <th>2597.0</th>\n",
       "      <td>A</td>\n",
       "      <td>6</td>\n",
       "      <td>response_L</td>\n",
       "      <td>wf0b51ce</td>\n",
       "    </tr>\n",
       "    <tr>\n",
       "      <th>2612.6</th>\n",
       "      <td>B</td>\n",
       "      <td>2</td>\n",
       "      <td>response_L</td>\n",
       "      <td>wf0b51ce</td>\n",
       "    </tr>\n",
       "    <tr>\n",
       "      <th>3296.1</th>\n",
       "      <td>A</td>\n",
       "      <td>7</td>\n",
       "      <td>response_R</td>\n",
       "      <td>wf0b51ce</td>\n",
       "    </tr>\n",
       "    <tr>\n",
       "      <th>...</th>\n",
       "      <td>...</td>\n",
       "      <td>...</td>\n",
       "      <td>...</td>\n",
       "      <td>...</td>\n",
       "    </tr>\n",
       "    <tr>\n",
       "      <th>8557.7</th>\n",
       "      <td>D</td>\n",
       "      <td>0</td>\n",
       "      <td>response_R</td>\n",
       "      <td>w6004c42</td>\n",
       "    </tr>\n",
       "    <tr>\n",
       "      <th>7841.0</th>\n",
       "      <td>A</td>\n",
       "      <td>6</td>\n",
       "      <td>response_L</td>\n",
       "      <td>w6004c42</td>\n",
       "    </tr>\n",
       "    <tr>\n",
       "      <th>2947.6</th>\n",
       "      <td>A</td>\n",
       "      <td>6</td>\n",
       "      <td>response_R</td>\n",
       "      <td>w6004c42</td>\n",
       "    </tr>\n",
       "    <tr>\n",
       "      <th>6411.6</th>\n",
       "      <td>D</td>\n",
       "      <td>0</td>\n",
       "      <td>response_L</td>\n",
       "      <td>w6004c42</td>\n",
       "    </tr>\n",
       "    <tr>\n",
       "      <th>6971.1</th>\n",
       "      <td>C</td>\n",
       "      <td>4</td>\n",
       "      <td>response_R</td>\n",
       "      <td>w6004c42</td>\n",
       "    </tr>\n",
       "  </tbody>\n",
       "</table>\n",
       "<p>192 rows × 4 columns</p>\n",
       "</div>"
      ],
      "text/plain": [
       "        stimulus  response        task       wid\n",
       "rt                                              \n",
       "19318.5        D         3  response_R  wf0b51ce\n",
       "2953.4         C         5  response_L  wf0b51ce\n",
       "2597.0         A         6  response_L  wf0b51ce\n",
       "2612.6         B         2  response_L  wf0b51ce\n",
       "3296.1         A         7  response_R  wf0b51ce\n",
       "...          ...       ...         ...       ...\n",
       "8557.7         D         0  response_R  w6004c42\n",
       "7841.0         A         6  response_L  w6004c42\n",
       "2947.6         A         6  response_R  w6004c42\n",
       "6411.6         D         0  response_L  w6004c42\n",
       "6971.1         C         4  response_R  w6004c42\n",
       "\n",
       "[192 rows x 4 columns]"
      ]
     },
     "execution_count": 69,
     "metadata": {},
     "output_type": "execute_result"
    }
   ],
   "source": [
    "responses"
   ]
  },
  {
   "cell_type": "code",
   "execution_count": null,
   "id": "7f277fbd",
   "metadata": {},
   "outputs": [],
   "source": []
  }
 ],
 "metadata": {
  "kernelspec": {
   "display_name": "Python 3 (ipykernel)",
   "language": "python",
   "name": "python3"
  },
  "language_info": {
   "codemirror_mode": {
    "name": "ipython",
    "version": 3
   },
   "file_extension": ".py",
   "mimetype": "text/x-python",
   "name": "python",
   "nbconvert_exporter": "python",
   "pygments_lexer": "ipython3",
   "version": "3.9.7"
  }
 },
 "nbformat": 4,
 "nbformat_minor": 5
}
